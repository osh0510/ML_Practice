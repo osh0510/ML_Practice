{
  "nbformat": 4,
  "nbformat_minor": 0,
  "metadata": {
    "colab": {
      "name": "Untitled0.ipynb",
      "private_outputs": true,
      "provenance": [],
      "mount_file_id": "1G0QRT5-ciKb7wMknSzi_CsmEUxOCh2hR",
      "authorship_tag": "ABX9TyP4WFsrIp56id6QTF4nhwWQ"
    },
    "kernelspec": {
      "name": "python3",
      "display_name": "Python 3"
    }
  },
  "cells": [
    {
      "cell_type": "code",
      "metadata": {
        "id": "r9RO3OSFSfUb"
      },
      "source": [
        ""
      ],
      "execution_count": null,
      "outputs": []
    }
  ]
}