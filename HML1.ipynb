{
  "nbformat": 4,
  "nbformat_minor": 0,
  "metadata": {
    "colab": {
      "name": "HML1.ipynb",
      "private_outputs": true,
      "provenance": [],
      "collapsed_sections": [],
      "authorship_tag": "ABX9TyN715NJEY5DD7blYhp26Xa0",
      "include_colab_link": true
    },
    "kernelspec": {
      "name": "python3",
      "display_name": "Python 3"
    },
    "accelerator": "GPU"
  },
  "cells": [
    {
      "cell_type": "markdown",
      "metadata": {
        "id": "view-in-github",
        "colab_type": "text"
      },
      "source": [
        "<a href=\"https://colab.research.google.com/github/osh0510/ML_Practice/blob/main/HML1.ipynb\" target=\"_parent\"><img src=\"https://colab.research.google.com/assets/colab-badge.svg\" alt=\"Open In Colab\"/></a>"
      ]
    },
    {
      "cell_type": "code",
      "metadata": {
        "id": "RxnauEWWv3CJ"
      },
      "source": [
        "# Seung-Hwan Oh, School of Artificail Intelligence, Korea University, Seoul, Korea\r\n",
        "# Modified by Seung-Hwan Oh 2021.01\r\n",
        "# Do not copy without permission"
      ],
      "execution_count": null,
      "outputs": []
    },
    {
      "cell_type": "code",
      "metadata": {
        "id": "pp6ezNFKxb0i"
      },
      "source": [
        "'''\r\n",
        "Reference:\r\n",
        " 1. https://rfriend.tistory.com/468 Dataframe\r\n",
        "'''"
      ],
      "execution_count": null,
      "outputs": []
    },
    {
      "cell_type": "code",
      "metadata": {
        "id": "aPrBUOonjoJ9"
      },
      "source": [
        "#!sudo apt-get install -y fonts-nanum\r\n",
        "#!sudo fc-cache -fv\r\n",
        "#!rm ~/.cache/matplotlib -rf"
      ],
      "execution_count": null,
      "outputs": []
    },
    {
      "cell_type": "code",
      "metadata": {
        "id": "4Z8hWKjJXSk2"
      },
      "source": [
        "from google.colab import drive\r\n",
        "drive.mount('/content/drive')"
      ],
      "execution_count": null,
      "outputs": []
    },
    {
      "cell_type": "code",
      "metadata": {
        "id": "nfEAk3tBXbow"
      },
      "source": [
        "# 파이썬 2와 파이썬 3 지원\r\n",
        "from __future__ import division, print_function, unicode_literals\r\n",
        "\r\n",
        "# 공통\r\n",
        "import numpy as np\r\n",
        "import os\r\n",
        "import matplotlib\r\n",
        "import matplotlib.pyplot as plt\r\n",
        "\r\n",
        "# 일관된 출력을 위해 유사난수 초기화\r\n",
        "np.random.seed(42)\r\n",
        "\r\n",
        "# 맷플롯립 설정\r\n",
        "%matplotlib inline\r\n",
        "plt.rcParams['axes.labelsize'] = 14\r\n",
        "plt.rcParams['xtick.labelsize'] = 12\r\n",
        "plt.rcParams['ytick.labelsize'] = 12\r\n",
        "\r\n",
        "# 한글출력\r\n",
        "matplotlib.rc('font', family='NanumBarunGothic')\r\n",
        "plt.rc('font', family='NanumBarunGothic')\r\n",
        "plt.rcParams['axes.unicode_minus'] = False\r\n",
        "\r\n",
        "# 그림을 저장할 폴드\r\n",
        "PROJECT_ROOT_DIR = \".\"\r\n",
        "CHAPTER_ID = \"fundamentals\"\r\n",
        "\r\n",
        "def save_fig(fig_id, tight_layout=True):\r\n",
        "    path = os.path.join(PROJECT_ROOT_DIR, \"images\", CHAPTER_ID, fig_id + \".png\")\r\n",
        "    if tight_layout:\r\n",
        "        plt.tight_layout()\r\n",
        "    plt.savefig(path, format='png', dpi=300)\r\n",
        "\r\n",
        "# SciPy 이슈 #5998에 해당하는 경고를 무시합니다(https://github.com/scipy/scipy/issues/5998).\r\n",
        "import warnings\r\n",
        "warnings.filterwarnings(action=\"ignore\", module=\"scipy\", message=\"^internal gelsd\")\r\n",
        "warnings.filterwarnings(action='ignore')\r\n",
        "#- (1) 경고 메시지를 무시하고 숨기거나 (Ignore warning message)\r\n",
        "#    : warnings.filterwarnings(action='ignore')\r\n",
        "#- (2) 숨기기했던 경고 메시지를 다시 보이게 (Reset to default)\r\n",
        "#    : warnings.filterwarnings(action='default')\r\n",
        "\r\n",
        "#경로 check\r\n",
        "print(os.getcwd())\r\n",
        "datapath = os.path.join(\"lifesat\", \"\")\r\n",
        "# 경로 이동\r\n",
        "%cd /content/drive/MyDrive/Colab/hson_data"
      ],
      "execution_count": null,
      "outputs": []
    },
    {
      "cell_type": "code",
      "metadata": {
        "id": "6PoTIcf1XmdB"
      },
      "source": [
        "def prepare_country_stats(oecd_bli, gdp_per_capita):\r\n",
        "    oecd_bli = oecd_bli[oecd_bli[\"INEQUALITY\"]==\"TOT\"]\r\n",
        "\r\n",
        "    oecd_bli = oecd_bli.pivot(index=\"Country\", columns=\"Indicator\", values=\"Value\")\r\n",
        "\r\n",
        "    # pivot Country와 indicator의 교차에 값을 Value\r\n",
        "\r\n",
        "    gdp_per_capita.rename(columns={\"2015\": \"GDP per capita\"}, inplace=True)\r\n",
        "\r\n",
        "    gdp_per_capita.set_index(\"Country\", inplace=True)\r\n",
        "\r\n",
        "    full_country_stats = pd.merge(left=oecd_bli, right=gdp_per_capita,\r\n",
        "                                  left_index=True, right_index=True)\r\n",
        "    \r\n",
        "    full_country_stats.sort_values(by=\"GDP per capita\", inplace=True)\r\n",
        "    remove_indices = [0, 1, 6, 8, 33, 34, 35]\r\n",
        "    keep_indices = list(set(range(36)) - set(remove_indices))\r\n",
        "    return full_country_stats[[\"GDP per capita\", 'Life satisfaction']].iloc[keep_indices]"
      ],
      "execution_count": null,
      "outputs": []
    },
    {
      "cell_type": "code",
      "metadata": {
        "id": "jLJdg3JEe5U6"
      },
      "source": [
        "import matplotlib\r\n",
        "import matplotlib.pyplot as plt\r\n",
        "import numpy as np\r\n",
        "import pandas as pd \r\n",
        "import sklearn\r\n",
        "import sklearn.linear_model\r\n",
        "\r\n",
        "# 데이터 적재\r\n",
        "oecd_bli = pd.read_csv(datapath + \"oecd_bli_2015.csv\", thousands=',')\r\n",
        "gdp_per_capita = pd.read_csv(datapath + \"gdp_per_capita.csv\",thousands=',',delimiter='\\t',\r\n",
        "                             encoding='latin1', na_values=\"n/a\")\r\n",
        "\r\n",
        "# 데이터 준비\r\n",
        "country_stats = prepare_country_stats(oecd_bli, gdp_per_capita)\r\n",
        "X = np.c_[country_stats[\"GDP per capita\"]]\r\n",
        "y = np.c_[country_stats[\"Life satisfaction\"]]\r\n",
        "\r\n",
        "# 데이터 시각화\r\n",
        "ax = country_stats.plot(kind='scatter', x=\"GDP per capita\", y='Life satisfaction')\r\n",
        "ax.set(xlabel=\"1인당 GDP\", ylabel=\"삶의 만족도\")\r\n",
        "plt.show()\r\n"
      ],
      "execution_count": null,
      "outputs": []
    }
  ]
}